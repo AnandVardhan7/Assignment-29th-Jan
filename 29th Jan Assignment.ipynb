{
 "cells": [
  {
   "cell_type": "code",
   "execution_count": null,
   "id": "762a8c93-5df5-4d03-8f59-8cb806722007",
   "metadata": {},
   "outputs": [],
   "source": [
    "#1. Who developed Python Programming Language? \n",
    "#Answer: Guido van Rossum"
   ]
  },
  {
   "cell_type": "code",
   "execution_count": null,
   "id": "91e7ae4c-9632-46fe-9dfd-dc879df9229d",
   "metadata": {},
   "outputs": [],
   "source": [
    "#2. Which type of Programming does Python support? \n",
    "# Answer: Imperative Programming,Object-Oriented Programming (OOP),\n",
    "#Functional Programming,Procedural Programming"
   ]
  },
  {
   "cell_type": "code",
   "execution_count": null,
   "id": "80bb95f9-2ac6-456e-9677-8b34e095f55e",
   "metadata": {},
   "outputs": [],
   "source": [
    "#3. Is Python case sensitive when dealing with identifiers?\n",
    "#Answers: Yes"
   ]
  },
  {
   "cell_type": "code",
   "execution_count": null,
   "id": "62589fce-cb19-455b-a2bf-d871f5c8970d",
   "metadata": {},
   "outputs": [],
   "source": [
    "#4. What is the correct extension of the Python file? \n",
    "#Answer: .py"
   ]
  },
  {
   "cell_type": "code",
   "execution_count": null,
   "id": "49cb578d-1fa5-4d06-acee-eff56270b52b",
   "metadata": {},
   "outputs": [],
   "source": [
    "#5. Is Python code compiled or interpreted? \n",
    "#Answer: Python is both compiled as well as an interpreted language"
   ]
  },
  {
   "cell_type": "code",
   "execution_count": null,
   "id": "4c556df8-23a4-4034-903f-751731eb8a0d",
   "metadata": {},
   "outputs": [],
   "source": [
    "#6. Name a few blocks of code used to define in Python language? \n"
   ]
  },
  {
   "cell_type": "code",
   "execution_count": null,
   "id": "0b173051-0cbf-48e1-8dce-d536d4bb2fc7",
   "metadata": {},
   "outputs": [],
   "source": [
    "#7. State a character used to give single-line comments in Python? \n",
    "# Answer: #"
   ]
  },
  {
   "cell_type": "code",
   "execution_count": null,
   "id": "ce91776c-e0f5-4e3a-a611-5d44822d96fb",
   "metadata": {},
   "outputs": [],
   "source": [
    "#8. Mention functions which can help us to find the version of python that we are currently working on?\n",
    "#Answer:import sys ,print(sys.version)"
   ]
  },
  {
   "cell_type": "code",
   "execution_count": null,
   "id": "217549e1-4e64-4ce0-a5be-0b4c1e944d70",
   "metadata": {},
   "outputs": [],
   "source": [
    "#9. Python supports the creation of anonymous functions at runtime, using a construct called\n",
    "#Answer: Lambda"
   ]
  },
  {
   "cell_type": "code",
   "execution_count": null,
   "id": "1f498ed2-d65d-4ccd-a76b-dc929a42cb54",
   "metadata": {},
   "outputs": [],
   "source": [
    "#10. What does pip stand for python?\n",
    "#Answer:: Preferred Installer Program"
   ]
  },
  {
   "cell_type": "code",
   "execution_count": null,
   "id": "11c1185b-4e9f-404f-8763-2e0c6d937892",
   "metadata": {},
   "outputs": [],
   "source": [
    "#11. Mention a few built-in functions in python?\n",
    "#Answer: print( ),type( ),input( )"
   ]
  },
  {
   "cell_type": "code",
   "execution_count": null,
   "id": "0b23bb03-351a-4e98-8ca0-eb71b6aa7961",
   "metadata": {},
   "outputs": [],
   "source": [
    "#12. What is the maximum possible length of an identifier in Python?\n",
    "#Answer:79 character"
   ]
  },
  {
   "cell_type": "code",
   "execution_count": null,
   "id": "9de1c657-0c06-4859-8436-c9d411b68242",
   "metadata": {},
   "outputs": [],
   "source": [
    "#13. What are the benefits of using Python?\n",
    "#Answer: Third-Party Modules,Presence of Libraries,Open Source and free,Huge Support Community,Easy to learn"
   ]
  },
  {
   "cell_type": "code",
   "execution_count": null,
   "id": "68e878cb-3cc8-4515-9bfd-9910afceec67",
   "metadata": {},
   "outputs": [],
   "source": [
    "#14. How is memory managed in Python?\n",
    "#Answer: Memory in Python is managed by Python private heap space"
   ]
  },
  {
   "cell_type": "code",
   "execution_count": null,
   "id": "4d3f2325-4308-4ce1-9fb1-31dc54e14e6b",
   "metadata": {},
   "outputs": [],
   "source": [
    "#15. How to install Python on Windows and set path variables?"
   ]
  },
  {
   "cell_type": "code",
   "execution_count": null,
   "id": "ab3b242e-fd87-4d80-a1cf-189da5f1213e",
   "metadata": {},
   "outputs": [],
   "source": [
    "#16. Is indentation required in python?\n",
    "#Answer: Yes"
   ]
  }
 ],
 "metadata": {
  "kernelspec": {
   "display_name": "Python 3 (ipykernel)",
   "language": "python",
   "name": "python3"
  },
  "language_info": {
   "codemirror_mode": {
    "name": "ipython",
    "version": 3
   },
   "file_extension": ".py",
   "mimetype": "text/x-python",
   "name": "python",
   "nbconvert_exporter": "python",
   "pygments_lexer": "ipython3",
   "version": "3.10.8"
  }
 },
 "nbformat": 4,
 "nbformat_minor": 5
}
